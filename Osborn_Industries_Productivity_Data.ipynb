{
  "nbformat": 4,
  "nbformat_minor": 0,
  "metadata": {
    "colab": {
      "provenance": [],
      "authorship_tag": "ABX9TyPSKQg3g2LlLAfb1STdpxim",
      "include_colab_link": true
    },
    "kernelspec": {
      "name": "python3",
      "display_name": "Python 3"
    },
    "language_info": {
      "name": "python"
    }
  },
  "cells": [
    {
      "cell_type": "markdown",
      "metadata": {
        "id": "view-in-github",
        "colab_type": "text"
      },
      "source": [
        "<a href=\"https://colab.research.google.com/github/kimjaehwankimjaehwan/Production-and-Operations-Management/blob/main/Osborn_Industries_Productivity_Data.ipynb\" target=\"_parent\"><img src=\"https://colab.research.google.com/assets/colab-badge.svg\" alt=\"Open In Colab\"/></a>"
      ]
    },
    {
      "cell_type": "code",
      "source": [
        "# 입력 데이터\n",
        "units_produced = 100000\n",
        "labor_hours = 10000\n",
        "machine_hours = 5000\n",
        "labor_rate = 15\n",
        "machine_usage_rate = 10\n",
        "\n",
        "cost_of_materials = 35000\n",
        "cost_of_energy = 15000\n",
        "cost_of_labor = 150000\n",
        "cost_of_machines = 50000\n",
        "total_cost = 250000\n",
        "\n",
        "# 출력 계산\n",
        "# 노동 생산성 계산: 생산된 단위 / 노동 시간\n",
        "labor_productivity = units_produced / labor_hours\n",
        "\n",
        "# 기계 생산성 계산: 생산된 단위 / 기계 사용 시간\n",
        "machine_productivity = units_produced / machine_hours\n",
        "\n",
        "# 다요소 생산성 계산: 생산된 단위 / (자재 비용 + 에너지 비용 + 노동 비용 + 기계 비용)\n",
        "multifactor_productivity = units_produced / (cost_of_materials + cost_of_energy + cost_of_labor + cost_of_machines)\n",
        "\n",
        "# 결과 출력\n",
        "print(f\"Labor productivity: {labor_productivity} units/hour\")\n",
        "print(f\"Machine productivity: {machine_productivity} units/hour\")\n",
        "print(f\"Multifactor productivity: {multifactor_productivity} units/$\")\n"
      ],
      "metadata": {
        "colab": {
          "base_uri": "https://localhost:8080/"
        },
        "id": "xp7f83fwGGAg",
        "outputId": "ba3c629c-00c4-4580-c1fb-af10a918b2ca"
      },
      "execution_count": 3,
      "outputs": [
        {
          "output_type": "stream",
          "name": "stdout",
          "text": [
            "Labor productivity: 10.0 units/hour\n",
            "Machine productivity: 20.0 units/hour\n",
            "Multifactor productivity: 0.4 units/$\n"
          ]
        }
      ]
    },
    {
      "cell_type": "code",
      "execution_count": 4,
      "metadata": {
        "colab": {
          "base_uri": "https://localhost:8080/"
        },
        "id": "EvYaSYlhFdJ3",
        "outputId": "c3bb7372-c2fc-4396-d25b-7a3f5833f7f5"
      },
      "outputs": [
        {
          "output_type": "stream",
          "name": "stdout",
          "text": [
            "INPUT DATA\n",
            "       Description  Value\n",
            "    Units produced 100000\n",
            "       Labor hours  10000\n",
            "     Machine hours   5000\n",
            "        Labor rate     15\n",
            "Machine usage rate     10\n",
            " Cost of materials  35000\n",
            "    Cost of energy  15000\n",
            "     Cost of labor 150000\n",
            "  Cost of machines  50000\n",
            "        Total cost 250000\n",
            "\n",
            "OUTPUT DATA\n",
            "             Description            Value\n",
            "      Labor productivity $10.0 units/hour\n",
            "    Machine productivity $20.0 units/hour\n",
            "Multifactor productivity     0.40 units/$\n"
          ]
        }
      ],
      "source": [
        "import pandas as pd\n",
        "\n",
        "# 입력 데이터\n",
        "input_data = {\n",
        "    'Description': [\n",
        "        'Units produced',\n",
        "        'Labor hours',\n",
        "        'Machine hours',\n",
        "        'Labor rate',\n",
        "        'Machine usage rate',\n",
        "        'Cost of materials',\n",
        "        'Cost of energy',\n",
        "        'Cost of labor',\n",
        "        'Cost of machines',\n",
        "        'Total cost'\n",
        "    ],\n",
        "    'Value': [\n",
        "        units_produced,\n",
        "        labor_hours,\n",
        "        machine_hours,\n",
        "        labor_rate,\n",
        "        machine_usage_rate,\n",
        "        cost_of_materials,\n",
        "        cost_of_energy,\n",
        "        cost_of_labor,\n",
        "        cost_of_machines,\n",
        "        total_cost\n",
        "    ]\n",
        "}\n",
        "\n",
        "output_data = {\n",
        "    'Description': [\n",
        "        'Labor productivity',\n",
        "        'Machine productivity',\n",
        "        'Multifactor productivity'\n",
        "    ],\n",
        "    'Value': [\n",
        "        f\"${units_produced / labor_hours} units/hour\",\n",
        "        f\"${units_produced / machine_hours} units/hour\",\n",
        "        f\"{units_produced / (cost_of_materials + cost_of_energy + cost_of_labor + cost_of_machines):.2f} units/$\"\n",
        "    ]\n",
        "}\n",
        "\n",
        "# 데이터프레임 생성\n",
        "input_df = pd.DataFrame(input_data)\n",
        "output_df = pd.DataFrame(output_data)\n",
        "\n",
        "# 출력\n",
        "print(\"INPUT DATA\")\n",
        "print(input_df.to_string(index=False))\n",
        "print(\"\\nOUTPUT DATA\")\n",
        "print(output_df.to_string(index=False))\n"
      ]
    },
    {
      "cell_type": "code",
      "source": [
        "import matplotlib.pyplot as plt\n",
        "\n",
        "# 생산성 데이터\n",
        "productivity_data = {\n",
        "    'Labor Productivity': units_produced / labor_hours,\n",
        "    'Machine Productivity': units_produced / machine_hours,\n",
        "    'Multifactor Productivity': units_produced / (cost_of_materials + cost_of_energy + cost_of_labor + cost_of_machines)\n",
        "}\n",
        "\n",
        "# 막대 그래프 생성\n",
        "plt.bar(productivity_data.keys(), productivity_data.values())\n",
        "plt.ylabel('Productivity (units/hour or units/$)')\n",
        "plt.title('Osborn Industries Productivity')\n",
        "plt.show()\n"
      ],
      "metadata": {
        "colab": {
          "base_uri": "https://localhost:8080/",
          "height": 452
        },
        "id": "sLx6kyasF3rV",
        "outputId": "3ea6ac42-c87c-4571-8297-0ea86e97df9a"
      },
      "execution_count": 5,
      "outputs": [
        {
          "output_type": "display_data",
          "data": {
            "text/plain": [
              "<Figure size 640x480 with 1 Axes>"
            ],
            "image/png": "[encoded data removed]"
          },
          "metadata": {}
        }
      ]
    }
  ]
}