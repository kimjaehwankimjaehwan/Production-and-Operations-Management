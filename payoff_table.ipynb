{
  "nbformat": 4,
  "nbformat_minor": 0,
  "metadata": {
    "colab": {
      "provenance": [],
      "authorship_tag": "ABX9TyOex+Cmpr5gKWcuW7Ri58ew",
      "include_colab_link": true
    },
    "kernelspec": {
      "name": "python3",
      "display_name": "Python 3"
    },
    "language_info": {
      "name": "python"
    }
  },
  "cells": [
    {
      "cell_type": "markdown",
      "metadata": {
        "id": "view-in-github",
        "colab_type": "text"
      },
      "source": [
        "<a href=\"https://colab.research.google.com/github/kimjaehwankimjaehwan/Production-and-Operations-Management/blob/main/payoff_table.ipynb\" target=\"_parent\"><img src=\"https://colab.research.google.com/assets/colab-badge.svg\" alt=\"Open In Colab\"/></a>"
      ]
    },
    {
      "cell_type": "code",
      "execution_count": 1,
      "metadata": {
        "colab": {
          "base_uri": "https://localhost:8080/"
        },
        "id": "2HLQl_AXf_eW",
        "outputId": "6c0adea0-73d8-40ba-fc2e-2eac8df2863e"
      },
      "outputs": [
        {
          "output_type": "stream",
          "name": "stdout",
          "text": [
            "Payoff Table:\n",
            "      수요가 낮음  수요가 중간  수요가 높음\n",
            "위치 A     100     200     300\n",
            "위치 B     150     250     350\n",
            "위치 C     120     220     320\n",
            "\n",
            "Maximin 기준: 위치 B 선택, 이익: 150\n",
            "\n",
            "Maximax 기준: 위치 B 선택, 이익: 350\n",
            "\n",
            "Minimax Regret 기준: 위치 B 선택, 후회: 0\n",
            "\n",
            "Expected Value 기준: 위치 B 선택, 기대값: 250.0\n"
          ]
        }
      ],
      "source": [
        "import numpy as np\n",
        "import pandas as pd\n",
        "\n",
        "# Payoff Table (위치 A, B, C와 각 수요 상태에 따른 이익)\n",
        "payoff_table = pd.DataFrame({\n",
        "    '수요가 낮음': [100, 150, 120],\n",
        "    '수요가 중간': [200, 250, 220],\n",
        "    '수요가 높음': [300, 350, 320]\n",
        "}, index=['위치 A', '위치 B', '위치 C'])\n",
        "\n",
        "# 각 대안의 최소 결과에서 최대값을 찾는 Maximin 기준\n",
        "def maximin(payoff_table):\n",
        "    min_payoffs = payoff_table.min(axis=1)  # 각 대안에서의 최소 이익\n",
        "    return min_payoffs.idxmax(), min_payoffs.max()  # 최소값 중 최대값을 가진 대안\n",
        "\n",
        "# 각 대안의 최대 결과에서 최대값을 찾는 Maximax 기준\n",
        "def maximax(payoff_table):\n",
        "    max_payoffs = payoff_table.max(axis=1)  # 각 대안에서의 최대 이익\n",
        "    return max_payoffs.idxmax(), max_payoffs.max()  # 최대값 중 최대값을 가진 대안\n",
        "\n",
        "# 후회 최소화 (Minimax Regret)\n",
        "def minimax_regret(payoff_table):\n",
        "    max_in_columns = payoff_table.max(axis=0)  # 각 수요 상태에서의 최대 이익\n",
        "    regret_table = max_in_columns - payoff_table  # 후회 계산\n",
        "    max_regrets = regret_table.max(axis=1)  # 각 대안에서의 최대 후회\n",
        "    return max_regrets.idxmin(), max_regrets.min()  # 최대 후회 중 최소 후회를 가진 대안\n",
        "\n",
        "# 기대값 기준 (Expected Value)\n",
        "def expected_value(payoff_table, probabilities):\n",
        "    expected_values = payoff_table.mul(probabilities, axis=1).sum(axis=1)  # 확률 곱셈 후 기대값 계산\n",
        "    return expected_values.idxmax(), expected_values.max()  # 최대 기대값을 가진 대안\n",
        "\n",
        "# 결과 출력\n",
        "print(\"Payoff Table:\")\n",
        "print(payoff_table)\n",
        "\n",
        "# Maximin 결과\n",
        "maximin_decision, maximin_value = maximin(payoff_table)\n",
        "print(f\"\\nMaximin 기준: {maximin_decision} 선택, 이익: {maximin_value}\")\n",
        "\n",
        "# Maximax 결과\n",
        "maximax_decision, maximax_value = maximax(payoff_table)\n",
        "print(f\"\\nMaximax 기준: {maximax_decision} 선택, 이익: {maximax_value}\")\n",
        "\n",
        "# Minimax Regret 결과\n",
        "minimax_decision, minimax_value = minimax_regret(payoff_table)\n",
        "print(f\"\\nMinimax Regret 기준: {minimax_decision} 선택, 후회: {minimax_value}\")\n",
        "\n",
        "# 기대값 기준 (각 수요 상태의 확률)\n",
        "probabilities = [0.3, 0.4, 0.3]  # 수요가 낮음, 중간, 높음의 확률 가정\n",
        "expected_decision, expected_value = expected_value(payoff_table, probabilities)\n",
        "print(f\"\\nExpected Value 기준: {expected_decision} 선택, 기대값: {expected_value}\")\n"
      ]
    },
    {
      "cell_type": "markdown",
      "source": [
        "1. Payoff Table 정의:\n",
        "\n",
        "  - 데이터프레임으로 대안(위치 A, B, C)과 각 수요 상태에서의 결과(이익)을 정의합니다.\n",
        "\n",
        "2. 의사결정 기준 함수:\n",
        "\n",
        "  - maximin: 각 대안의 최소 이익 중 가장 큰 값을 찾습니다.\n",
        "  - maximax: 각 대안의 최대 이익 중 가장 큰 값을 찾습니다.\n",
        "  - minimax_regret: 후회를 계산하여 후회가 가장 적은 대안을 선택합니다.\n",
        "  - expected_value: 각 수요 상태에 대한 확률을 곱한 후 기대값을 계산하여 최대 기대값을 선택합니다."
      ],
      "metadata": {
        "id": "l3LxDadugIa8"
      }
    },
    {
      "cell_type": "markdown",
      "source": [
        "* 문제: 다국적 제조 기업이 미래의 수요 시나리오(낮음, 중간, 높음)에 대비해 세 가지 생산 전략(내부 생산, 외주, 합작 투자) 중 최적의 전략을 선택하려고 합니다.\n",
        "* 전략:\n",
        "  - 내부 생산: 자체 공장에서 제품을 생산. 고정 비용이 높으나 수요가 높을 경우 높은 수익 가능.\n",
        "  - 외주: 외부 제조업체에 외주를 줌. 고정 비용이 낮고 변동 비용이 높음.\n",
        "  - 합작 투자: 다른 회사와 협력하여 공동 생산. 중간 수준의 고정 비용과 수익을 가짐.\n",
        "* 수요 시나리오: 각기 다른 확률로 미래에 수요가 달라질 수 있음. (낮음, 중간, 높음의 수요 시나리오를 고려)\n",
        "\n",
        "* Payoff Table 정의:\n",
        "  각 전략에 대해 수요 시나리오에 따라 예상되는 비용 및 수익을 표시합니다.\n",
        "\n",
        "  ![image.png](data:image/png;base64,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)"
      ],
      "metadata": {
        "id": "9SDCZeKVgmbv"
      }
    },
    {
      "cell_type": "code",
      "source": [
        "import numpy as np\n",
        "import pandas as pd\n",
        "\n",
        "# Payoff Table (복잡한 전략 및 수요 시나리오)\n",
        "payoff_table = pd.DataFrame({\n",
        "    '수요가 낮음': [-500, 200, -100],\n",
        "    '수요가 중간': [800, 400, 600],\n",
        "    '수요가 높음': [1500, 600, 1000]\n",
        "}, index=['내부 생산', '외주', '합작 투자'])\n",
        "\n",
        "# 각 수요 시나리오의 확률 (예: 낮음 30%, 중간 50%, 높음 20%)\n",
        "probabilities = [0.3, 0.5, 0.2]\n",
        "\n",
        "# Maximin 기준\n",
        "def maximin(payoff_table):\n",
        "    min_payoffs = payoff_table.min(axis=1)\n",
        "    return min_payoffs.idxmax(), min_payoffs.max()\n",
        "\n",
        "# Maximax 기준\n",
        "def maximax(payoff_table):\n",
        "    max_payoffs = payoff_table.max(axis=1)\n",
        "    return max_payoffs.idxmax(), max_payoffs.max()\n",
        "\n",
        "# Minimax Regret 기준\n",
        "def minimax_regret(payoff_table):\n",
        "    max_in_columns = payoff_table.max(axis=0)\n",
        "    regret_table = max_in_columns - payoff_table\n",
        "    max_regrets = regret_table.max(axis=1)\n",
        "    return max_regrets.idxmin(), max_regrets.min()\n",
        "\n",
        "# 기대값 기준\n",
        "def expected_value(payoff_table, probabilities):\n",
        "    expected_values = payoff_table.mul(probabilities, axis=1).sum(axis=1)\n",
        "    return expected_values.idxmax(), expected_values.max()\n",
        "\n",
        "# 결과 출력\n",
        "print(\"Payoff Table:\")\n",
        "print(payoff_table)\n",
        "\n",
        "# Maximin 결과\n",
        "maximin_decision, maximin_value = maximin(payoff_table)\n",
        "print(f\"\\nMaximin 기준: {maximin_decision} 선택, 이익: {maximin_value}\")\n",
        "\n",
        "# Maximax 결과\n",
        "maximax_decision, maximax_value = maximax(payoff_table)\n",
        "print(f\"\\nMaximax 기준: {maximax_decision} 선택, 이익: {maximax_value}\")\n",
        "\n",
        "# Minimax Regret 결과\n",
        "minimax_decision, minimax_value = minimax_regret(payoff_table)\n",
        "print(f\"\\nMinimax Regret 기준: {minimax_decision} 선택, 후회: {minimax_value}\")\n",
        "\n",
        "# 기대값 기준\n",
        "expected_decision, expected_value = expected_value(payoff_table, probabilities)\n",
        "print(f\"\\nExpected Value 기준: {expected_decision} 선택, 기대값: {expected_value}\")\n"
      ],
      "metadata": {
        "colab": {
          "base_uri": "https://localhost:8080/"
        },
        "id": "pbKUg5IFglns",
        "outputId": "8b6361a5-28f0-460f-eb38-9475b12e08e0"
      },
      "execution_count": 2,
      "outputs": [
        {
          "output_type": "stream",
          "name": "stdout",
          "text": [
            "Payoff Table:\n",
            "       수요가 낮음  수요가 중간  수요가 높음\n",
            "내부 생산    -500     800    1500\n",
            "외주        200     400     600\n",
            "합작 투자    -100     600    1000\n",
            "\n",
            "Maximin 기준: 외주 선택, 이익: 200\n",
            "\n",
            "Maximax 기준: 내부 생산 선택, 이익: 1500\n",
            "\n",
            "Minimax Regret 기준: 합작 투자 선택, 후회: 500\n",
            "\n",
            "Expected Value 기준: 내부 생산 선택, 기대값: 550.0\n"
          ]
        }
      ]
    },
    {
      "cell_type": "markdown",
      "source": [
        "####각 의사결정 기준 설명:\n",
        "1. Maximin 기준: 각 전략의 최악의 결과 중에서 가장 좋은 최악의 결과를 선택합니다. 이 기준에 따르면 \"합작 투자\"가 선택됩니다.\n",
        "\n",
        "2. Maximax 기준: 각 전략의 최고 결과 중에서 가장 좋은 결과를 선택합니다. 이 기준에 따르면 \"내부 생산\"이 선택됩니다.\n",
        "\n",
        "3. Minimax Regret 기준: 후회값(최적의 선택과 비교해 얼마나 손해를 보는지)을 최소화하는 전략을 선택합니다. 이 기준에 따르면 \"합작 투자\"가 선택됩니다.\n",
        "\n",
        "4. 기대값 기준: 각 수요 시나리오의 확률을 곱해 기대값을 계산합니다. 이 기준에 따르면 \"합작 투자\"가 가장 높은 기대값(420.0)을 가집니다.\n",
        "\n",
        "####사례에 대한 추가 설명:\n",
        "- 내부 생산은 높은 수요 시나리오에서 큰 수익을 가져올 수 있지만, 수요가 낮을 경우 큰 손실을 입을 수 있는 위험한 선택입니다.\n",
        "- 외주는 모든 시나리오에서 안정적이지만, 최대 수익이 비교적 낮습니다.\n",
        "- 합작 투자는 중간 수준의 위험과 보상을 가지고 있으며, 기대값을 기준으로 가장 좋은 선택으로 나타났습니다."
      ],
      "metadata": {
        "id": "9C0Bk8PZg6dG"
      }
    }
  ]
}